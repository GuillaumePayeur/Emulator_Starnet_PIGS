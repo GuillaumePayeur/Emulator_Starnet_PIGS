{
 "cells": [
  {
   "cell_type": "code",
   "execution_count": 1,
   "metadata": {},
   "outputs": [],
   "source": [
    "import torch\n",
    "import torch.nn as nn\n",
    "import torch.nn.functional as F\n",
    "import numpy as np\n",
    "import h5py\n",
    "import os\n",
    "import matplotlib.pyplot as plt\n",
    "import time\n",
    "from ipywidgets import interact, interactive, HBox, VBox, interactive_output, FloatSlider, Layout\n",
    "from IPython.display import display"
   ]
  },
  {
   "cell_type": "code",
   "execution_count": 2,
   "metadata": {},
   "outputs": [],
   "source": [
    "# Creating the emulator\n",
    "def DNN(sizes):\n",
    "    # Linear layers\n",
    "    layers = []\n",
    "    layers.append(nn.Linear(23,sizes[0]))\n",
    "    layers.append(nn.LeakyReLU(0.07))\n",
    "    for i in range(len(sizes)-1):\n",
    "        layers.append(nn.Linear(sizes[i],sizes[i+1]))\n",
    "        layers.append(nn.LeakyReLU(0.07))\n",
    "    layers.append(nn.Linear(sizes[-1],3829))\n",
    "\n",
    "    model = nn.Sequential(*layers)\n",
    "    return model"
   ]
  },
  {
   "cell_type": "code",
   "execution_count": 3,
   "metadata": {},
   "outputs": [],
   "source": [
    "means = np.load('mean.npy').reshape(1,23)\n",
    "stds = np.load('std.npy').reshape(1,23)\n",
    "grid = np.load('grid.npy')\n",
    "\n",
    "# Function that maps the parameters onto a spectrum and displays it\n",
    "def plot(Al,Ba,C,Ca,Co,Cr,Eu,Mg,Mn,N,Na,Ni,O,Si,Sr,Ti,Zn,logg,teff,Fe_H,vsini,vt,vrad):\n",
    "    params = np.reshape(np.array([Al,Ba,C,Ca,Co,Cr,Eu,Mg,Mn,N,Na,Ni,O,Si,Sr,Ti,Zn,logg,teff,Fe_H,vsini,vt,vrad]),(1,23))\n",
    "    params = ((params-means)/stds).reshape(1,1,23)\n",
    "    params = torch.tensor(params,requires_grad=True,device='cuda:0',dtype=torch.float)\n",
    "    spectrum = NN(params).detach().cpu().numpy()[0,0,:]\n",
    "    plt.ylim((0,1.2))\n",
    "    plt.ylabel('Normalized Flux')\n",
    "    plt.xlabel('Wavelength (Angstrom)')\n",
    "    plt.plot(grid[0:1980], spectrum[0:1980],color='blue')\n",
    "    plt.plot(grid[1980:], spectrum[1980:],color='red')"
   ]
  },
  {
   "cell_type": "code",
   "execution_count": 4,
   "metadata": {
    "scrolled": true
   },
   "outputs": [
    {
     "data": {
      "application/vnd.jupyter.widget-view+json": {
       "model_id": "2c70807d2c204c7f92db03e74a484854",
       "version_major": 2,
       "version_minor": 0
      },
      "text/plain": [
       "HBox(children=(FloatSlider(value=0.0, description='[Al/Fe]', max=0.5, min=-1.5, orientation='vertical'), Float…"
      ]
     },
     "metadata": {},
     "output_type": "display_data"
    },
    {
     "data": {
      "application/vnd.jupyter.widget-view+json": {
       "model_id": "56efc92350e442f899725431b38f6f24",
       "version_major": 2,
       "version_minor": 0
      },
      "text/plain": [
       "Output()"
      ]
     },
     "metadata": {},
     "output_type": "display_data"
    }
   ],
   "source": [
    "if __name__=='__main__':\n",
    "    # Initializing the emulator\n",
    "    model_name = 'emulator_v6.pth'\n",
    "    NN = DNN([200,268,397,569,739]).to('cuda:0')\n",
    "    NN.load_state_dict(torch.load(model_name))\n",
    "    NN.eval()\n",
    "\n",
    "    plt.rcParams[\"figure.figsize\"] = (15,7)\n",
    "    #w = interactive(plot,Al=(-1.5,0.5,0.1),Ba=(-2,2,0.1),C=(-1,3,0.1),Ca=(-0.5,1.1,0.1),Co=(-2,1.1,0.1),Cr=(-2,1.1,0.1),Eu=(-2,1.1,0.1),Mg=(-2,1.1,0.1),Mn=(-1.5,0.5,0.1),N=(-2,1.1,0.1),Na=(-2,1.1,0.1),Ni=(-2,1.1,0.1),O=(-2,1.1,0.1),Si=(-2,1.1,0.1),Sr=(-2,1.1,0.1),Ti=(-2,2,0.1),Zn=(-1.5,0.5,0.1),logg=(1,5,0.1),teff=(4600,8800,10),Fe_H=(-4.8,0.6,0.1),vsini=(0,50,1),vt=(0.5,3,0.1),vrad=(-150,150,1))\n",
    "    w = interactive(plot,Al=FloatSlider(min=-1.5,max=0.5,step=0.1,orientation='vertical',description='[Al/Fe]'),\n",
    "                         Ba=FloatSlider(min=-2,max=2,step=0.1,orientation='vertical',description='[Ba/Fe]'),\n",
    "                         C=FloatSlider(min=-1.3,max=0.1,step=0.1,orientation='vertical',description='[C/Fe]'),\n",
    "                         Ca=FloatSlider(min=-0.5,max=1.1,step=0.1,orientation='vertical',description='[Ca/Fe]'),\n",
    "                         Co=FloatSlider(min=-2,max=1.1,step=0.1,orientation='vertical',description='[Co/Fe]'),\n",
    "                         Cr=FloatSlider(min=-2,max=1.1,step=0.1,orientation='vertical',description='[Cr/Fe]'),\n",
    "                         Eu=FloatSlider(min=-2,max=1.1,step=0.1,orientation='vertical',description='[Eu/Fe]'),\n",
    "                         Mg=FloatSlider(min=-2,max=1.1,step=0.1,orientation='vertical',description='[Mg/Fe]'),\n",
    "                         Mn=FloatSlider(min=-1.5,max=0.5,step=0.1,orientation='vertical',description='[Mn/Fe]'),\n",
    "                         N=FloatSlider(min=-2,max=1.1,step=0.1,orientation='vertical',description='[N/Fe]'),\n",
    "                         Na=FloatSlider(min=-2,max=1.1,step=0.1,orientation='vertical',description='[Na/Fe]'),\n",
    "                         Ni=FloatSlider(min=-2,max=1.1,step=0.1,orientation='vertical',description='[Ni/Fe]'),\n",
    "                         O=FloatSlider(min=-2,max=1.1,step=0.1,orientation='vertical',description='[O/Fe]'),\n",
    "                         Si=FloatSlider(min=-2,max=1.1,step=0.1,orientation='vertical',description='[Si/Fe]'),\n",
    "                         Sr=FloatSlider(min=-2,max=1.1,step=0.1,orientation='vertical',description='[Sr/Fe]'),\n",
    "                         Ti=FloatSlider(min=-2,max=2,step=0.1,orientation='vertical',description='[Ti/Fe]'),\n",
    "                         Zn=FloatSlider(min=-1.5,max=0.5,step=0.1,orientation='vertical',description='[Zn/Fe]'),\n",
    "                         logg=FloatSlider(min=-2.5,max=5,step=0.1,value=3,orientation='vertical',description='logg'),\n",
    "                         teff=FloatSlider(min=4600,max=8800,step=10,value=6000,orientation='vertical',description='Teff'),\n",
    "                         Fe_H=FloatSlider(min=-4.8,max=0.6,step=0.1,value=-2,orientation='vertical',description='[Fe/H]'),\n",
    "                         vsini=FloatSlider(min=0,max=50,step=1,value=25,orientation='vertical',description='vsini'),\n",
    "                         vt=FloatSlider(min=0.5,max=3,step=0.1,value=1.5,orientation='vertical',description='vt'),\n",
    "                         vrad=FloatSlider(min=-150,max=150,step=1,value=0,orientation='vertical',description='vrad'))\n",
    "                   \n",
    "    box_layout = Layout(display='flex', flex_flow='row', justify_content='center', align_items='stretch')\n",
    "    display(HBox(w.children[:-1]),layout=box_layout)#Show all controls\n",
    "    display(w.children[-1])#Show the output"
   ]
  },
  {
   "cell_type": "code",
   "execution_count": null,
   "metadata": {},
   "outputs": [],
   "source": []
  }
 ],
 "metadata": {
  "kernelspec": {
   "display_name": "Python 3",
   "language": "python",
   "name": "python3"
  },
  "language_info": {
   "codemirror_mode": {
    "name": "ipython",
    "version": 3
   },
   "file_extension": ".py",
   "mimetype": "text/x-python",
   "name": "python",
   "nbconvert_exporter": "python",
   "pygments_lexer": "ipython3",
   "version": "3.7.10"
  }
 },
 "nbformat": 4,
 "nbformat_minor": 4
}
